{
 "cells": [
  {
   "cell_type": "markdown",
   "id": "c91fe7da-e754-4343-bedf-9e0790bf088d",
   "metadata": {},
   "source": [
    "# Data Science Tools and Ecosystem #"
   ]
  },
  {
   "cell_type": "markdown",
   "id": "bb823726-30fe-4ea8-8ecc-d8f80f39d9ef",
   "metadata": {},
   "source": [
    "# Data Science Tools and Ecosystem #"
   ]
  },
  {
   "cell_type": "markdown",
   "id": "c001375c-9fd2-45dc-ba19-75a13fa9d79d",
   "metadata": {},
   "source": [
    "In this notebook, Data Science Tools and Ecosystem are summarized."
   ]
  },
  {
   "cell_type": "markdown",
   "id": "f59ea838-2b0c-43df-9db4-122c96c4c577",
   "metadata": {},
   "source": [
    "In this notebook, Data Science Tools and Ecosystem are summarized."
   ]
  },
  {
   "cell_type": "markdown",
   "id": "dcc2a87d-1f80-4e5c-8b7c-ce3b856469a1",
   "metadata": {},
   "source": [
    "Some of the popular languages that Data Scientists use are:\n",
    "1. Pyton\n",
    "2. R\n",
    "3. SQL\n",
    "4. Scala\n",
    "5. Java\n",
    "6. C++\n",
    "7. Julia"
   ]
  },
  {
   "cell_type": "markdown",
   "id": "84848e44-3876-4981-ae10-2c8ba81151d9",
   "metadata": {},
   "source": [
    "Some of the popular languages that Data Scientists use are:\n",
    "1. Pyton\n",
    "2. R\n",
    "3. SQL\n",
    "4. Scala\n",
    "5. Java\n",
    "6. C++\n",
    "7. Julia"
   ]
  },
  {
   "cell_type": "markdown",
   "id": "14b57ccd-6b58-4d58-91f9-4b94d85f5203",
   "metadata": {},
   "source": [
    "Some of the commonly used libraries used by Data Scientists include:\n",
    "- Pandas\n",
    "- NumPy\n",
    "- SciPy\n",
    "- Matplotlib"
   ]
  },
  {
   "cell_type": "markdown",
   "id": "27ee172b-5ea0-45ef-91d0-00f82e726dc3",
   "metadata": {},
   "source": [
    "Some of the commonly used libraries used by Data Scientists include:\n",
    "- Pandas\n",
    "- NumPy\n",
    "- SciPy\n",
    "- Matplotlib"
   ]
  },
  {
   "cell_type": "markdown",
   "id": "2905720b-7e46-4d33-adaf-1c52e3483309",
   "metadata": {},
   "source": [
    "|Data Science Tools|\n",
    "|------------------|\n",
    "|Jupyter Notebooks|\n",
    "|RStudio|\n",
    "|Google Collab|\n"
   ]
  },
  {
   "cell_type": "markdown",
   "id": "82fbef74-2233-4c03-82c7-ea2f808b54ac",
   "metadata": {},
   "source": [
    "|Data Science Tools|\n",
    "|------------------|\n",
    "|Jupyter Notebooks|\n",
    "|RStudio|\n",
    "|Google Collab|\n"
   ]
  },
  {
   "cell_type": "markdown",
   "id": "250901b3-a8b8-4f33-9a03-dcbbafc108bb",
   "metadata": {},
   "source": [
    "### Below are a few examples of evaluating arithmetic expressions in Python ###"
   ]
  },
  {
   "cell_type": "markdown",
   "id": "02a8ab2d-9f47-464b-89dd-7b45391ca828",
   "metadata": {},
   "source": [
    "### Below are a few examples of evaluating arithmetic expressions in Python ###"
   ]
  },
  {
   "cell_type": "code",
   "execution_count": 2,
   "id": "7bb819ea-858d-453c-9138-69c9506e22ca",
   "metadata": {},
   "outputs": [
    {
     "data": {
      "text/plain": [
       "17"
      ]
     },
     "execution_count": 2,
     "metadata": {},
     "output_type": "execute_result"
    }
   ],
   "source": [
    "#This a simple arithmetic expression to mutiply then add integers\n",
    "(3*4)+5"
   ]
  },
  {
   "cell_type": "code",
   "execution_count": 3,
   "id": "ecdbe2a7-7a7c-4353-9762-5b1444b4c555",
   "metadata": {},
   "outputs": [
    {
     "data": {
      "text/plain": [
       "3.3333333333333335"
      ]
     },
     "execution_count": 3,
     "metadata": {},
     "output_type": "execute_result"
    }
   ],
   "source": [
    "#  This will convert 200 minutes to hours by diving by 60 This will convert 200 minutes to hours by diving by 60\n",
    "200/60"
   ]
  },
  {
   "cell_type": "markdown",
   "id": "2eb054a3-1570-4129-938e-ba0162a02e83",
   "metadata": {},
   "source": [
    "__Objectives:__\n",
    "List popular languages for Data Science :\n",
    "* Pyton\n",
    "* R\n",
    "* SQL\n",
    "* Scala\n",
    "* Java\n",
    "* C++\n",
    "* Julia\n"
   ]
  },
  {
   "cell_type": "markdown",
   "id": "985078e7-0e5e-4f13-b62d-a6e90e2fa467",
   "metadata": {},
   "source": [
    "__Objectives:__\n",
    "List popular languages for Data Science :\n",
    "* Pyton\n",
    "* R\n",
    "* SQL\n",
    "* Scala\n",
    "* Java\n",
    "* C++\n",
    "* Julia\n"
   ]
  },
  {
   "cell_type": "markdown",
   "id": "053b3e71-ae71-4e3e-ba4c-48f60560ddb9",
   "metadata": {},
   "source": [
    "## Author ##\n",
    "Rafii Rafid"
   ]
  },
  {
   "cell_type": "markdown",
   "id": "fc35783a-80f3-4d1f-8aa8-a4bf19a55ac6",
   "metadata": {},
   "source": [
    "## Author ##\n",
    "Rafii Rafid"
   ]
  },
  {
   "cell_type": "code",
   "execution_count": null,
   "id": "dc972946-ce4f-41db-9576-0dedb04003ed",
   "metadata": {},
   "outputs": [],
   "source": []
  }
 ],
 "metadata": {
  "kernelspec": {
   "display_name": "Python 3 (ipykernel)",
   "language": "python",
   "name": "python3"
  },
  "language_info": {
   "codemirror_mode": {
    "name": "ipython",
    "version": 3
   },
   "file_extension": ".py",
   "mimetype": "text/x-python",
   "name": "python",
   "nbconvert_exporter": "python",
   "pygments_lexer": "ipython3",
   "version": "3.12.4"
  }
 },
 "nbformat": 4,
 "nbformat_minor": 5
}
